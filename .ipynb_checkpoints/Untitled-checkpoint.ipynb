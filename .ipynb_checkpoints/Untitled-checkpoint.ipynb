{
 "cells": [
  {
   "cell_type": "code",
   "execution_count": 6,
   "metadata": {},
   "outputs": [],
   "source": [
    "def print_varsize():\n",
    "    import types\n",
    "    print(\"{}{: >15}{}{: >10}{}\".format('|','Variable Name','|','  Size','|'))\n",
    "    print(\" -------------------------- \")\n",
    "    for k, v in globals().items():\n",
    "        if hasattr(v, 'size') and not k.startswith('_') and not isinstance(v,types.ModuleType):\n",
    "            print(\"{}{: >15}{}{: >10}{}\".format('|',k,'|',str(v.size),'|'))\n",
    "        elif hasattr(v, '__len__') and not k.startswith('_') and not isinstance(v,types.ModuleType):\n",
    "            print(\"{}{: >15}{}{: >10}{}\".format('|',k,'|',str(len(v)),'|'))"
   ]
  },
  {
   "cell_type": "code",
   "execution_count": 2,
   "metadata": {},
   "outputs": [],
   "source": [
    "def list_FIFO(array,append_element):\n",
    "    while(len(array)>=5):\n",
    "        del array[0]\n",
    "    array.append(append_element)\n",
    "    return array"
   ]
  },
  {
   "cell_type": "code",
   "execution_count": 3,
   "metadata": {},
   "outputs": [
    {
     "data": {
      "text/plain": [
       "[3]"
      ]
     },
     "execution_count": 3,
     "metadata": {},
     "output_type": "execute_result"
    }
   ],
   "source": [
    "array=[]\n",
    "list_FIFO(array,3)"
   ]
  },
  {
   "cell_type": "code",
   "execution_count": 30,
   "metadata": {},
   "outputs": [
    {
     "name": "stdout",
     "output_type": "stream",
     "text": [
      "('array', [3, 5, 9, 2, 10])\n",
      "|  Variable Name|      Size|\n",
      " -------------------------- \n",
      "|          array|         5|\n",
      "|             In|        31|\n",
      "|            Out|         6|\n"
     ]
    }
   ],
   "source": [
    "list_FIFO(array,3)\n",
    "list_FIFO(array,5)\n",
    "list_FIFO(array,9)\n",
    "list_FIFO(array,2)\n",
    "list_FIFO(array,10)\n",
    "print('array',array)\n",
    "print_varsize()"
   ]
  },
  {
   "cell_type": "code",
   "execution_count": 27,
   "metadata": {},
   "outputs": [],
   "source": [
    "del array[0]"
   ]
  },
  {
   "cell_type": "code",
   "execution_count": 28,
   "metadata": {},
   "outputs": [
    {
     "name": "stdout",
     "output_type": "stream",
     "text": [
      "[9, 2, 10]\n"
     ]
    }
   ],
   "source": [
    "print(array)"
   ]
  },
  {
   "cell_type": "code",
   "execution_count": 1,
   "metadata": {},
   "outputs": [
    {
     "name": "stdout",
     "output_type": "stream",
     "text": [
      "[('_dh', [u'/Users/aoitsuno/Desktop/training/video_image_classifier']), ('_sh', <module 'IPython.core.shadowns' from '/Users/aoitsuno/virtual_env/lib/python2.7/site-packages/IPython/core/shadowns.pyc'>), ('_i1', u'print(globals().items())'), ('_ii', u''), ('quit', <IPython.core.autocall.ZMQExitAutocall object at 0x102b82210>), ('__builtins__', <module '__builtin__' (built-in)>), ('In', ['', u'print(globals().items())']), ('__builtin__', <module '__builtin__' (built-in)>), ('_oh', {}), ('_iii', u''), ('exit', <IPython.core.autocall.ZMQExitAutocall object at 0x102b82210>), ('get_ipython', <bound method ZMQInteractiveShell.get_ipython of <ipykernel.zmqshell.ZMQInteractiveShell object at 0x102a22850>>), ('__', ''), ('_ih', ['', u'print(globals().items())']), ('_i', u''), ('__name__', '__main__'), ('___', ''), ('__doc__', 'Automatically created module for IPython interactive environment'), ('_', ''), ('Out', {})]\n"
     ]
    }
   ],
   "source": [
    "print(globals().items())"
   ]
  },
  {
   "cell_type": "code",
   "execution_count": 4,
   "metadata": {},
   "outputs": [
    {
     "name": "stdout",
     "output_type": "stream",
     "text": [
      "[('_dh', [u'/Users/aoitsuno/Desktop/training/video_image_classifier']), ('__', ''), ('_i', u'array=[]\\nlist_FIFO(array,3)'), ('quit', <IPython.core.autocall.ZMQExitAutocall object at 0x102b82210>), ('__builtins__', <module '__builtin__' (built-in)>), ('_3', [3]), ('_ih', ['', u'print(globals().items())', u'def list_FIFO(array,append_element):\\n    while(len(array)>=5):\\n        del array[0]\\n    array.append(append_element)\\n    return array', u'array=[]\\nlist_FIFO(array,3)', u'print(globals().items())']), ('__builtin__', <module '__builtin__' (built-in)>), ('__name__', '__main__'), ('___', ''), ('array', [3]), ('_', [3]), ('_sh', <module 'IPython.core.shadowns' from '/Users/aoitsuno/virtual_env/lib/python2.7/site-packages/IPython/core/shadowns.pyc'>), ('list_FIFO', <function list_FIFO at 0x102cbfb18>), ('_i4', u'print(globals().items())'), ('_i3', u'array=[]\\nlist_FIFO(array,3)'), ('_i2', u'def list_FIFO(array,append_element):\\n    while(len(array)>=5):\\n        del array[0]\\n    array.append(append_element)\\n    return array'), ('_i1', u'print(globals().items())'), ('__doc__', 'Automatically created module for IPython interactive environment'), ('_iii', u'print(globals().items())'), ('exit', <IPython.core.autocall.ZMQExitAutocall object at 0x102b82210>), ('get_ipython', <bound method ZMQInteractiveShell.get_ipython of <ipykernel.zmqshell.ZMQInteractiveShell object at 0x102a22850>>), ('_ii', u'def list_FIFO(array,append_element):\\n    while(len(array)>=5):\\n        del array[0]\\n    array.append(append_element)\\n    return array'), ('In', ['', u'print(globals().items())', u'def list_FIFO(array,append_element):\\n    while(len(array)>=5):\\n        del array[0]\\n    array.append(append_element)\\n    return array', u'array=[]\\nlist_FIFO(array,3)', u'print(globals().items())']), ('_oh', {3: [3]}), ('Out', {3: [3]})]\n"
     ]
    }
   ],
   "source": [
    "print(globals().items())"
   ]
  },
  {
   "cell_type": "code",
   "execution_count": 5,
   "metadata": {},
   "outputs": [],
   "source": [
    "from datetime import datetime as dt\n",
    "\n",
    "tdatetime = dt.now()\n",
    "tstr = tdatetime.strftime('%Y/%m/%d')"
   ]
  },
  {
   "cell_type": "code",
   "execution_count": 6,
   "metadata": {},
   "outputs": [
    {
     "name": "stdout",
     "output_type": "stream",
     "text": [
      "2018/03/22\n"
     ]
    }
   ],
   "source": [
    "print(tstr)"
   ]
  },
  {
   "cell_type": "code",
   "execution_count": 9,
   "metadata": {},
   "outputs": [
    {
     "name": "stdout",
     "output_type": "stream",
     "text": [
      "2018/03/22\n"
     ]
    }
   ],
   "source": [
    "print(dt.now().strftime('%Y/%m/%d'))"
   ]
  },
  {
   "cell_type": "code",
   "execution_count": 12,
   "metadata": {},
   "outputs": [
    {
     "name": "stdout",
     "output_type": "stream",
     "text": [
      "2018/03/22 14:33:38\n"
     ]
    }
   ],
   "source": [
    "print(dt.now().strftime(\"%Y/%m/%d %H:%M:%S\"))"
   ]
  },
  {
   "cell_type": "code",
   "execution_count": 17,
   "metadata": {},
   "outputs": [
    {
     "name": "stdout",
     "output_type": "stream",
     "text": [
      "2018/03/22 15:05:29\n"
     ]
    }
   ],
   "source": [
    "from pytz import timezone\n",
    "string=dt.now(timezone('Asia/Tokyo')).strftime(\"%Y/%m/%d %H:%M:%S\")\n",
    "print(string)"
   ]
  },
  {
   "cell_type": "code",
   "execution_count": 14,
   "metadata": {},
   "outputs": [
    {
     "name": "stdout",
     "output_type": "stream",
     "text": [
      "<type 'str'>\n"
     ]
    }
   ],
   "source": [
    "print(type(string))"
   ]
  },
  {
   "cell_type": "code",
   "execution_count": 16,
   "metadata": {},
   "outputs": [],
   "source": [
    "from pytz import timezone\n",
    "from datetime import datetime\n",
    "utc_now = datetime.now(timezone('UTC'))"
   ]
  },
  {
   "cell_type": "code",
   "execution_count": 21,
   "metadata": {},
   "outputs": [
    {
     "ename": "NameError",
     "evalue": "name 'l' is not defined",
     "output_type": "error",
     "traceback": [
      "\u001b[0;31m---------------------------------------------------------------------------\u001b[0m",
      "\u001b[0;31mNameError\u001b[0m                                 Traceback (most recent call last)",
      "\u001b[0;32m<ipython-input-21-3e990c0ff659>\u001b[0m in \u001b[0;36m<module>\u001b[0;34m()\u001b[0m\n\u001b[1;32m      1\u001b[0m \u001b[0;32mimport\u001b[0m \u001b[0mcopy\u001b[0m\u001b[0;34m\u001b[0m\u001b[0m\n\u001b[0;32m----> 2\u001b[0;31m \u001b[0ml2\u001b[0m \u001b[0;34m=\u001b[0m \u001b[0mcopy\u001b[0m\u001b[0;34m.\u001b[0m\u001b[0mdeepcopy\u001b[0m\u001b[0;34m(\u001b[0m\u001b[0ml\u001b[0m\u001b[0;34m)\u001b[0m\u001b[0;34m\u001b[0m\u001b[0m\n\u001b[0m",
      "\u001b[0;31mNameError\u001b[0m: name 'l' is not defined"
     ]
    }
   ],
   "source": [
    "import copy\n",
    "l2 = copy.deepcopy(l)"
   ]
  },
  {
   "cell_type": "code",
   "execution_count": 55,
   "metadata": {},
   "outputs": [],
   "source": [
    "def list_FIFO(array,append_element):\n",
    "    if len(array)>=5:\n",
    "        temp_array_1to4 = copy.deepcopy(array[-4:])\n",
    "    else:\n",
    "        temp_array_1to4 = copy.deepcopy(array)\n",
    "    del array #メモリを解放\n",
    "    temp_array_1to4.append(append_element) #キューに追加\n",
    "    return temp_array_1to4"
   ]
  },
  {
   "cell_type": "code",
   "execution_count": 58,
   "metadata": {},
   "outputs": [
    {
     "name": "stdout",
     "output_type": "stream",
     "text": [
      "no5\n",
      "[4, 5, 3]\n",
      "no5\n",
      "[4, 5, 3, 4]\n",
      "no5\n",
      "[4, 5, 3, 4, 5]\n",
      "5\n",
      "[5, 3, 4, 5, 6]\n",
      "5\n",
      "[3, 4, 5, 6, 7]\n",
      "5\n",
      "[4, 5, 6, 7, 8]\n"
     ]
    }
   ],
   "source": [
    "import copy\n",
    "array=[4,5]\n",
    "array = list_FIFO(array,3)\n",
    "print(array)\n",
    "array = list_FIFO(array,4)\n",
    "print(array)\n",
    "array = list_FIFO(array,5)\n",
    "print(array)\n",
    "array = list_FIFO(array,6)\n",
    "print(array)\n",
    "array = list_FIFO(array,7)\n",
    "print(array)\n",
    "array = list_FIFO(array,8)\n",
    "print(array)"
   ]
  },
  {
   "cell_type": "code",
   "execution_count": 23,
   "metadata": {},
   "outputs": [
    {
     "name": "stdout",
     "output_type": "stream",
     "text": [
      "[]\n"
     ]
    }
   ],
   "source": [
    "list_FIFO(array,3)\n",
    "list_FIFO(array,5)\n",
    "list_FIFO(array,9)\n",
    "list_FIFO(array,2)\n",
    "list_FIFO(array,10)\n",
    "print(array)"
   ]
  },
  {
   "cell_type": "code",
   "execution_count": null,
   "metadata": {},
   "outputs": [],
   "source": []
  }
 ],
 "metadata": {
  "kernelspec": {
   "display_name": "Python 2",
   "language": "python",
   "name": "python2"
  },
  "language_info": {
   "codemirror_mode": {
    "name": "ipython",
    "version": 2
   },
   "file_extension": ".py",
   "mimetype": "text/x-python",
   "name": "python",
   "nbconvert_exporter": "python",
   "pygments_lexer": "ipython2",
   "version": "2.7.10"
  }
 },
 "nbformat": 4,
 "nbformat_minor": 2
}
